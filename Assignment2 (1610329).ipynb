{
 "cells": [
  {
   "cell_type": "markdown",
   "metadata": {},
   "source": [
    "LeNet implementation using mxnet"
   ]
  },
  {
   "cell_type": "code",
   "execution_count": 1,
   "metadata": {},
   "outputs": [
    {
     "name": "stdout",
     "output_type": "stream",
     "text": [
      "conv0 output shape:\t (1, 6, 28, 28)\n",
      "pool0 output shape:\t (1, 6, 14, 14)\n",
      "conv1 output shape:\t (1, 16, 10, 10)\n",
      "pool1 output shape:\t (1, 16, 5, 5)\n",
      "dense0 output shape:\t (1, 120)\n",
      "dense1 output shape:\t (1, 84)\n",
      "dense2 output shape:\t (1, 10)\n",
      "Done\n"
     ]
    }
   ],
   "source": [
    "#implementing LeNet using mxnet\n",
    "\n",
    "import d2l\n",
    "from mxnet import np,npx,init,gluon,autograd\n",
    "from mxnet.gluon import nn\n",
    "npx.set_np()\n",
    "\n",
    "#using  the sequential  class to  form the layers\n",
    "net=nn.Sequential()\n",
    "\n",
    "#adding each layer  to the network using prebuilt functions \n",
    "net.add( \n",
    "        #a convolutional layer\n",
    "        nn.Conv2D(channels=6,kernel_size=5,padding=2,activation=\"sigmoid\"),\n",
    "        \n",
    "        #a  maxpool  layer to preserve  the  spatial features\n",
    "        nn.AvgPool2D(pool_size=2,strides=2),\n",
    "        \n",
    "        #repeat the previous 2 steps  again with  more channels  and no padding\n",
    "        #same  pooling layer\n",
    "        nn.Conv2D(channels=16,kernel_size=5,activation=\"sigmoid\"),\n",
    "        nn.AvgPool2D(pool_size=2,strides=2),\n",
    "        \n",
    "        #add fully  connected dense layers\n",
    "        nn.Dense(120, activation='sigmoid'),\n",
    "        nn.Dense(84, activation='sigmoid'),\n",
    "        nn.Dense(10)\n",
    "        )\n",
    "\n",
    "X = np.random.uniform(size=(1, 1, 28, 28))\n",
    "net.initialize()\n",
    "\n",
    "for layer in net:\n",
    "    X = layer(X)\n",
    "    print(layer.name, 'output shape:\\t', X.shape)\n",
    "    \n",
    "print(\"Done\")\n",
    "\n",
    "batch_size = 256\n",
    "train_iter, test_iter = d2l.load_data_fashion_mnist(batch_size=batch_size)\n",
    "\n",
    "def evaluate_accuracy_gpu(net,data_iter,ctx=None):\n",
    "    if not ctx:\n",
    "        ctx=list(net.collect_params().values())[0].list_ctx()[0]\n",
    "    metric=d2l.Accumulator(2)\n",
    "    for  X,y in data_iter:\n",
    "        X,y=X.as_in_context(ctx),y.as_int_context(ctx)\n",
    "        metric.add(d2l.accuracy(net(X),y),y.size)\n",
    "    return metric[0]/metric[1]\n",
    "\n",
    "def train_ch5(net, train_iter, test_iter, num_epochs, lr, ctx=d2l.try_gpu()):\n",
    "    \n",
    "    net.initialize(force_reinit=True, ctx=ctx, init=init.Xavier())\n",
    "    loss = gluon.loss.SoftmaxCrossEntropyLoss()\n",
    "    trainer = gluon.Trainer(net.collect_params(),'sgd', {'learning_rate': lr})\n",
    "    animator = d2l.Animator(xlabel='epoch', xlim=[0, num_epochs],legend=['train loss', 'train acc', 'test acc'])\n",
    "    timer = d2l.Timer()\n",
    "    for epoch in range(num_epochs):\n",
    "        metric = d2l.Accumulator(3)\n",
    "        for i, (X, y) in enumerate(train_iter):\n",
    "            timer.start()\n",
    "            # Here is the only difference compared to train_epoch_ch3\n",
    "            X, y = X.as_in_context(ctx), y.as_in_context(ctx)\n",
    "            with autograd.record():\n",
    "                y_hat = net(X)\n",
    "                l = loss(y_hat, y)\n",
    "            l.backward()\n",
    "            trainer.step(X.shape[0])\n",
    "            metric.add(l.sum(), d2l.accuracy(y_hat, y), X.shape[0])\n",
    "            timer.stop()\n",
    "            train_loss, train_acc = metric[0]/metric[2], metric[1]/metric[2]\n",
    "            if (i+1) % 50 == 0:\n",
    "                animator.add(epoch + i/len(train_iter),(train_loss, train_acc, None))\n",
    "    test_acc = evaluate_accuracy_gpu(net, test_iter)\n",
    "    animator.add(epoch+1, (None, None, test_acc))\n",
    "    \n",
    "    print('loss %.3f, train acc %.3f, test acc %.3f' % (\n",
    "    train_loss, train_acc, test_acc))\n",
    "    print('%.1f examples/sec on %s' % (metric[2]*num_epochs/timer.sum(), ctx))\n",
    "\n",
    "lr, num_epochs = 0.9, 10\n",
    "train_ch5(net, train_iter, test_iter, num_epochs, lr)"
   ]
  },
  {
   "cell_type": "markdown",
   "metadata": {},
   "source": [
    "Implementation of CNN using pytorch"
   ]
  },
  {
   "cell_type": "code",
   "execution_count": 2,
   "metadata": {},
   "outputs": [],
   "source": [
    "import torch\n",
    "import numpy as np\n",
    "import matplotlib.pyplot as plt\n",
    "import torch.nn as nn\n",
    "import torch.optim as optim\n",
    "from torchvision import datasets , transforms\n",
    "\n",
    "from torch.utils.data import DataLoader\n",
    "\n",
    "transformss = transforms.Compose([transforms.Resize((28,28)),transforms.ToTensor()])\n",
    "trainset = datasets.FashionMNIST('MNIST_data/', download = True, train = True, transform = transformss)\n",
    "testset = datasets.FashionMNIST('MNIST_data/', download = True, train = False, transform = transformss)\n",
    "trainloader = DataLoader(trainset, batch_size = 600, shuffle = True)\n",
    "testloader = DataLoader(testset, batch_size = 64, shuffle = True)"
   ]
  },
  {
   "cell_type": "code",
   "execution_count": 20,
   "metadata": {},
   "outputs": [],
   "source": [
    "class Net(nn.Module):\n",
    "    \n",
    "    def  __init__(self):\n",
    "        super().__init__()\n",
    "        \n",
    "        self.conv=nn.Sequential(\n",
    "            nn.Conv2d(1,6,kernel_size=5,padding=0,stride=1),\n",
    "            nn.ReLU(),\n",
    "            nn.MaxPool2d(2,stride=2), #dim=14*14\n",
    "            \n",
    "            nn.Conv2d(6,16,kernel_size=5,padding=0,stride=1),\n",
    "            nn.ReLU(),\n",
    "            nn.MaxPool2d(2,stride=2), #dim=6*6\n",
    "            \n",
    "            nn.Conv2d(16,32,kernel_size=3,padding=0,stride=1),\n",
    "            nn.ReLU(),\n",
    "            #dim=3*3\n",
    "        )\n",
    "        \n",
    "        self.linear=nn.Sequential(\n",
    "            nn.Linear(128,64),\n",
    "            nn.ReLU(),\n",
    "            nn.Linear(64,32),\n",
    "            nn.ReLU(),\n",
    "            nn.Linear(32,10),\n",
    "            nn.LogSoftmax(dim=-1)\n",
    "        )\n",
    "    \n",
    "    def forward(self,image):\n",
    "        \n",
    "        output=self.conv(image)\n",
    "        output=output.view(output.size(0),-1)\n",
    "        output=self.linear(output)\n",
    "        \n",
    "        return output"
   ]
  },
  {
   "cell_type": "code",
   "execution_count": 33,
   "metadata": {},
   "outputs": [],
   "source": [
    "cnn=Net()\n",
    "iterations=10\n",
    "optimizer=optim.Adam(cnn.parameters(),lr=0.01)\n",
    "loss_fn=nn.CrossEntropyLoss()"
   ]
  },
  {
   "cell_type": "code",
   "execution_count": 22,
   "metadata": {},
   "outputs": [],
   "source": [
    "def train(cnn,iterations,optimizer,loss_fn,trainloader):\n",
    "    \n",
    "    for i in range(iterations):\n",
    "        \n",
    "        lossperiter=0.0\n",
    "        \n",
    "        for j, data in enumerate(trainloader):\n",
    "            \n",
    "            img,label=data\n",
    "            \n",
    "            optimizer.zero_grad()\n",
    "            output=cnn(img)\n",
    "            loss=loss_fn(output,label)\n",
    "            loss.backward()\n",
    "            optimizer.step()\n",
    "            lossperiter+=loss.item()\n",
    "        \n",
    "        print(lossperiter/600)"
   ]
  },
  {
   "cell_type": "code",
   "execution_count": 31,
   "metadata": {},
   "outputs": [],
   "source": [
    "def test_network(testloader,convNet,optimizer,lossfunction):\n",
    "    \n",
    "    total_correct = 0\n",
    "    avg_loss = 0.0\n",
    "    for i,data in enumerate(testloader):\n",
    "        \n",
    "        images,labels=data\n",
    "        #calculate the output for each image\n",
    "        output = convNet(images)\n",
    "        #find the loss\n",
    "        pred = output.detach().max(1)[1]\n",
    "        total_correct += pred.eq(labels.view_as(pred)).sum()\n",
    "\n",
    "    avg_loss /= len(testset)\n",
    "    print('Accuracy '+ str((float(total_correct)*100) / len(testset)))\n"
   ]
  },
  {
   "cell_type": "code",
   "execution_count": 34,
   "metadata": {},
   "outputs": [
    {
     "name": "stdout",
     "output_type": "stream",
     "text": [
      "0.17688492556413016\n",
      "0.0890192973613739\n",
      "0.07533800661563873\n",
      "0.06728329683343569\n",
      "0.06086659456292788\n",
      "0.05752184684077899\n",
      "0.05446715414524078\n",
      "0.052070976694424946\n",
      "0.05156468364099662\n",
      "0.0506229654699564\n"
     ]
    }
   ],
   "source": [
    "train(cnn,iterations,optimizer,loss_fn,trainloader)"
   ]
  },
  {
   "cell_type": "code",
   "execution_count": 35,
   "metadata": {},
   "outputs": [
    {
     "name": "stdout",
     "output_type": "stream",
     "text": [
      "Accuracy 87.85\n"
     ]
    }
   ],
   "source": [
    "test_network(testloader,cnn,optimizer,loss_fn)"
   ]
  },
  {
   "cell_type": "code",
   "execution_count": null,
   "metadata": {},
   "outputs": [],
   "source": []
  }
 ],
 "metadata": {
  "kernelspec": {
   "display_name": "Python 3",
   "language": "python",
   "name": "python3"
  },
  "language_info": {
   "codemirror_mode": {
    "name": "ipython",
    "version": 3
   },
   "file_extension": ".py",
   "mimetype": "text/x-python",
   "name": "python",
   "nbconvert_exporter": "python",
   "pygments_lexer": "ipython3",
   "version": "3.7.3"
  }
 },
 "nbformat": 4,
 "nbformat_minor": 2
}
